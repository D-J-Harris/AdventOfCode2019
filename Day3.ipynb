{
 "cells": [
  {
   "cell_type": "markdown",
   "metadata": {},
   "source": [
    "## Puzzle 3"
   ]
  },
  {
   "cell_type": "code",
   "execution_count": 1,
   "metadata": {},
   "outputs": [],
   "source": [
    "import numpy as np\n",
    "from copy import deepcopy"
   ]
  },
  {
   "cell_type": "code",
   "execution_count": 2,
   "metadata": {},
   "outputs": [],
   "source": [
    "# import data\n",
    "with open(\"day3_data.txt\", \"r\") as f:\n",
    "    wire_1 = f.readline().strip().split(',')\n",
    "    wire_2 = f.readline().strip().split(',')"
   ]
  },
  {
   "cell_type": "code",
   "execution_count": 3,
   "metadata": {},
   "outputs": [],
   "source": [
    "# wire_1 = ['R8','U5','L5','D3']\n",
    "# wire_2 = ['U7','R6','D4','L4']"
   ]
  },
  {
   "cell_type": "code",
   "execution_count": 4,
   "metadata": {},
   "outputs": [],
   "source": [
    "# return dims needed to hold wire path\n",
    "def get_dims(arr):\n",
    "\n",
    "    # up down left right\n",
    "    hor = 0\n",
    "    ver = 0\n",
    "    max_dirs = [0, 0, 0, 0]\n",
    "    \n",
    "    for instruct in arr:\n",
    "        \n",
    "        ax = instruct[0]\n",
    "        mag = int(instruct[1:])\n",
    "\n",
    "        if ax == 'U':\n",
    "            if max_dirs[0] < ver + mag:\n",
    "                max_dirs[0] = ver + mag\n",
    "            ver += mag\n",
    "\n",
    "        if ax == 'D': \n",
    "            if max_dirs[1] > ver - mag:\n",
    "                max_dirs[1] = ver - mag\n",
    "            ver -= mag\n",
    "\n",
    "        if ax == 'L':\n",
    "            if max_dirs[2] > hor - mag:\n",
    "                max_dirs[2] = hor - mag\n",
    "            hor -= mag\n",
    "\n",
    "        if ax == 'R':\n",
    "            if max_dirs[3] < hor + mag:\n",
    "                max_dirs[3] = hor + mag\n",
    "            hor += mag\n",
    "\n",
    "    return max_dirs"
   ]
  },
  {
   "cell_type": "code",
   "execution_count": 5,
   "metadata": {},
   "outputs": [
    {
     "data": {
      "text/plain": [
       "'\\nboard notes:\\nrow, column is accessed via [j, i]\\nthe (0,0) coord is in the top-left\\n'"
      ]
     },
     "execution_count": 5,
     "metadata": {},
     "output_type": "execute_result"
    }
   ],
   "source": [
    "dims_1 = get_dims(wire_1)\n",
    "dims_2 = get_dims(wire_2)\n",
    "\n",
    "i_start = abs(max(dims_1[2], dims_2[2], key=abs))\n",
    "j_start = abs(max(dims_1[0], dims_2[0], key=abs))\n",
    "board_width = i_start + abs(max(dims_1[3], dims_2[3], key=abs)) + 1\n",
    "board_height = j_start + abs(max(dims_1[1], dims_2[1], key=abs)) + 1\n",
    "\n",
    "# start board at i_start, j_start\n",
    "board_start = np.zeros((board_height, board_width), dtype=int)\n",
    "board_start[j_start, i_start] += 1\n",
    "\n",
    "'''\n",
    "board notes:\n",
    "row, column is accessed via [j, i]\n",
    "the (0,0) coord is in the top-left\n",
    "'''"
   ]
  },
  {
   "cell_type": "code",
   "execution_count": 6,
   "metadata": {},
   "outputs": [],
   "source": [
    "def trace_wire(board_start, wire_path, i_start, j_start):\n",
    "    \n",
    "    i = i_start\n",
    "    j = j_start\n",
    "    board = deepcopy(board_start)\n",
    "    \n",
    "    for mov in wire_path:\n",
    "    \n",
    "        ax = mov[0]\n",
    "        mag = int(mov[1:])\n",
    "        if ax == 'R':\n",
    "            board[j, i+1 : i+mag+1] += 1\n",
    "            i += mag\n",
    "\n",
    "        if ax == 'L':\n",
    "            board[j, i-mag : i] += 1\n",
    "            i -= mag\n",
    "\n",
    "        if ax == 'D':\n",
    "            board[j+1 : j+mag+1, i] += 1\n",
    "            j += mag\n",
    "\n",
    "        if ax == 'U':\n",
    "            board[j-mag : j, i] += 1\n",
    "            j -= mag\n",
    "    return board"
   ]
  },
  {
   "cell_type": "code",
   "execution_count": 7,
   "metadata": {},
   "outputs": [],
   "source": [
    "def trace_wire_steps(board_start, wire_path, i_start, j_start):\n",
    "    \n",
    "    i = i_start\n",
    "    j = j_start\n",
    "    board = deepcopy(board_start)\n",
    "    \n",
    "    global_step = 0\n",
    "    \n",
    "    for mov in wire_path:\n",
    "    \n",
    "        ax = mov[0]\n",
    "        mag = int(mov[1:])\n",
    "        for step in range(1, mag+1):\n",
    "            if ax == 'R':\n",
    "                i += 1\n",
    "                if board[j, i] == 0: board[j, i] = global_step + step\n",
    "\n",
    "            if ax == 'L':\n",
    "                i -= 1\n",
    "                if board[j, i] == 0: board[j, i] = global_step + step\n",
    "\n",
    "            if ax == 'D':\n",
    "                j += 1\n",
    "                if board[j, i] == 0: board[j, i] = global_step + step\n",
    "\n",
    "            if ax == 'U':\n",
    "                j -= 1\n",
    "                if board[j, i] == 0: board[j, i] = global_step + step\n",
    "        global_step += mag\n",
    "                \n",
    "    return board"
   ]
  },
  {
   "cell_type": "code",
   "execution_count": 8,
   "metadata": {},
   "outputs": [],
   "source": [
    "i = i_start\n",
    "j = j_start\n",
    "\n",
    "board_1 = trace_wire(board_start, wire_1, i_start, j_start)\n",
    "board_2 = trace_wire(board_start, wire_2, i_start, j_start)"
   ]
  },
  {
   "cell_type": "code",
   "execution_count": 9,
   "metadata": {},
   "outputs": [],
   "source": [
    "# eliminate self crossing points\n",
    "board_1 = np.where(board_1 > 1, 1, board_1)\n",
    "board_2 = np.where(board_2 > 1, 1, board_2)"
   ]
  },
  {
   "cell_type": "code",
   "execution_count": 10,
   "metadata": {},
   "outputs": [],
   "source": [
    "combined_board = board_1 + board_2\n",
    "combined_board[j_start, i_start] = 1\n",
    "crossing_points = np.argwhere(combined_board > 1)"
   ]
  },
  {
   "cell_type": "code",
   "execution_count": 11,
   "metadata": {},
   "outputs": [
    {
     "data": {
      "text/plain": [
       "array([[0, 0, 0, ..., 0, 0, 0],\n",
       "       [0, 0, 0, ..., 0, 0, 0],\n",
       "       [0, 0, 0, ..., 0, 0, 0],\n",
       "       ...,\n",
       "       [0, 0, 0, ..., 0, 0, 0],\n",
       "       [0, 0, 0, ..., 0, 0, 0],\n",
       "       [0, 0, 0, ..., 0, 0, 0]])"
      ]
     },
     "execution_count": 11,
     "metadata": {},
     "output_type": "execute_result"
    }
   ],
   "source": [
    "combined_board\n"
   ]
  },
  {
   "cell_type": "code",
   "execution_count": 12,
   "metadata": {},
   "outputs": [],
   "source": [
    "# return manhattan dist between two coords\n",
    "def get_manhattan(x, y):\n",
    "    \n",
    "    dist_1 = abs(x[0] - y[0])\n",
    "    dist_2 = abs(x[1] - y[1])\n",
    "    return dist_1 + dist_2"
   ]
  },
  {
   "cell_type": "code",
   "execution_count": 13,
   "metadata": {},
   "outputs": [],
   "source": [
    "dists = [get_manhattan(x, [j_start, i_start]) for x in crossing_points]"
   ]
  },
  {
   "cell_type": "code",
   "execution_count": 14,
   "metadata": {},
   "outputs": [
    {
     "data": {
      "text/plain": [
       "709"
      ]
     },
     "execution_count": 14,
     "metadata": {},
     "output_type": "execute_result"
    }
   ],
   "source": [
    "if dists:\n",
    "    ans = min(dists)\n",
    "ans"
   ]
  },
  {
   "cell_type": "code",
   "execution_count": 15,
   "metadata": {},
   "outputs": [],
   "source": [
    "board_1_steps = trace_wire_steps(board_start, wire_1, i_start, j_start)\n",
    "board_2_steps = trace_wire_steps(board_start, wire_2, i_start, j_start)"
   ]
  },
  {
   "cell_type": "code",
   "execution_count": 16,
   "metadata": {},
   "outputs": [],
   "source": [
    "step_sums = []\n",
    "for cross in crossing_points:\n",
    "        \n",
    "    j = cross[0]\n",
    "    i = cross[1]\n",
    "    step_sums.append(board_1_steps[j, i] + board_2_steps[j, i])"
   ]
  },
  {
   "cell_type": "code",
   "execution_count": 17,
   "metadata": {},
   "outputs": [
    {
     "data": {
      "text/plain": [
       "13836"
      ]
     },
     "execution_count": 17,
     "metadata": {},
     "output_type": "execute_result"
    }
   ],
   "source": [
    "if step_sums:\n",
    "    ans = min(step_sums)\n",
    "ans"
   ]
  }
 ],
 "metadata": {
  "kernelspec": {
   "display_name": "Python 3",
   "language": "python",
   "name": "python3"
  },
  "language_info": {
   "codemirror_mode": {
    "name": "ipython",
    "version": 3
   },
   "file_extension": ".py",
   "mimetype": "text/x-python",
   "name": "python",
   "nbconvert_exporter": "python",
   "pygments_lexer": "ipython3",
   "version": "3.7.4"
  }
 },
 "nbformat": 4,
 "nbformat_minor": 2
}
