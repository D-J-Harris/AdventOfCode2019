{
 "cells": [
  {
   "cell_type": "code",
   "execution_count": 1,
   "metadata": {},
   "outputs": [],
   "source": [
    "from collections import defaultdict\n",
    "from math import ceil\n",
    "from copy import deepcopy as cp\n",
    "ore = 'ORE'\n",
    "fuel = 'FUEL'"
   ]
  },
  {
   "cell_type": "code",
   "execution_count": 2,
   "metadata": {},
   "outputs": [],
   "source": [
    "# dict of the ingredients for a given output\n",
    "recipes = defaultdict(dict)\n",
    "\n",
    "# dict of how much of an output is made in its reaction\n",
    "out_quantities = defaultdict(int)\n",
    "\n",
    "with open(\"data/14_test_data.txt\", \"r\") as f:\n",
    "    \n",
    "    for line in f.readlines():\n",
    "        reactions = line.strip().split(\"=>\")\n",
    "    \n",
    "        out = reactions[1].strip().split()\n",
    "        out_quantities[out[1]] = int(out[0])\n",
    "        out = out[1]\n",
    "        \n",
    "        ins = defaultdict(int)\n",
    "        for i in reactions[0].strip().split(\", \"):\n",
    "            i = i.strip().split()\n",
    "            ins[i[1]] = int(i[0])\n",
    "            \n",
    "        recipes[out] = ins"
   ]
  },
  {
   "cell_type": "code",
   "execution_count": 3,
   "metadata": {},
   "outputs": [],
   "source": [
    "# return the dictionary of how many of each ore-made material is needed\n",
    "# (the base_ingreds dict)\n",
    "def get_constituents(all_ingreds):\n",
    "    \n",
    "    print(all_ingreds)\n",
    "\n",
    "    all_ingreds_new = cp(all_ingreds)\n",
    "    all_constituents_flag = True\n",
    "    \n",
    "\n",
    "    for m, amount in all_ingreds.items():\n",
    "\n",
    "        if ore not in recipes[m]:    \n",
    "            all_constituents_flag = False\n",
    "            ingreds = recipes[m]\n",
    "            num_iter = ceil(amount / out_quantities[m])\n",
    "            for k,v in ingreds.items():\n",
    "                all_ingreds_new[k] += v * num_iter\n",
    "            del all_ingreds_new[m]\n",
    "            \n",
    "    if all_constituents_flag:\n",
    "        return all_ingreds\n",
    "    else:\n",
    "        return get_constituents(all_ingreds_new)"
   ]
  },
  {
   "cell_type": "code",
   "execution_count": 7,
   "metadata": {},
   "outputs": [],
   "source": [
    "# function to return the ore needed based on constituent ingredients\n",
    "# to a material\n",
    "def calculate_ore(constituents):\n",
    "    ore_total = 0\n",
    "    \n",
    "    for m, amount in constituents.items():\n",
    "        num_iter = ceil(amount / out_quantities[m])\n",
    "        print(m, amount, out_quantities[m], num_iter)\n",
    "        ore_total += recipes[m][ore] * num_iter\n",
    "        \n",
    "    return ore_total"
   ]
  },
  {
   "cell_type": "code",
   "execution_count": 8,
   "metadata": {},
   "outputs": [
    {
     "name": "stdout",
     "output_type": "stream",
     "text": [
      "defaultdict(<class 'int'>, {'STKFG': 53, 'MNCFX': 6, 'VJHF': 46, 'HVMC': 81, 'CXFTF': 68, 'GNMV': 25})\n",
      "defaultdict(<class 'int'>, {'MNCFX': 759, 'VJHF': 71, 'VPVL': 205, 'FWMGM': 425, 'RFSQX': 189, 'NVRVD': 9, 'CXFTF': 185})\n",
      "defaultdict(<class 'int'>, {'MNCFX': 4192, 'VJHF': 1989, 'NVRVD': 475, 'JNWZP': 78})\n",
      "MNCFX 4192 6 699\n",
      "VJHF 1989 6 332\n",
      "NVRVD 475 4 119\n",
      "JNWZP 78 7 12\n"
     ]
    },
    {
     "data": {
      "text/plain": [
       "178056"
      ]
     },
     "execution_count": 8,
     "metadata": {},
     "output_type": "execute_result"
    }
   ],
   "source": [
    "fuel_ingreds = recipes[fuel]\n",
    "constituents = get_constituents(fuel_ingreds)\n",
    "ore_total = calculate_ore(constituents)\n",
    "ore_total"
   ]
  },
  {
   "cell_type": "code",
   "execution_count": 9,
   "metadata": {},
   "outputs": [
    {
     "data": {
      "text/plain": [
       "178056"
      ]
     },
     "execution_count": 9,
     "metadata": {},
     "output_type": "execute_result"
    }
   ],
   "source": [
    "ore_total"
   ]
  },
  {
   "cell_type": "code",
   "execution_count": null,
   "metadata": {},
   "outputs": [],
   "source": []
  }
 ],
 "metadata": {
  "kernelspec": {
   "display_name": "Python 3",
   "language": "python",
   "name": "python3"
  },
  "language_info": {
   "codemirror_mode": {
    "name": "ipython",
    "version": 3
   },
   "file_extension": ".py",
   "mimetype": "text/x-python",
   "name": "python",
   "nbconvert_exporter": "python",
   "pygments_lexer": "ipython3",
   "version": "3.7.4"
  }
 },
 "nbformat": 4,
 "nbformat_minor": 2
}
