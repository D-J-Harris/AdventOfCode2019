{
 "cells": [
  {
   "cell_type": "code",
   "execution_count": 1,
   "metadata": {},
   "outputs": [],
   "source": [
    "from collections import Counter, defaultdict\n",
    "from math import ceil\n",
    "ore = 'ORE'"
   ]
  },
  {
   "cell_type": "code",
   "execution_count": 2,
   "metadata": {},
   "outputs": [],
   "source": [
    "# dict of the ingredients for a given output\n",
    "recipes = defaultdict(dict)\n",
    "\n",
    "# dict of how much of an output is made in its reaction\n",
    "out_quantities = defaultdict(int)\n",
    "\n",
    "with open(\"data/14_test_data.txt\", \"r\") as f:\n",
    "    \n",
    "    for line in f.readlines():\n",
    "        reactions = line.strip().split(\"=>\")\n",
    "    \n",
    "        out = reactions[1].strip().split()\n",
    "        out_quantities[out[1]] = int(out[0])\n",
    "        out = out[1]\n",
    "        \n",
    "        ins = defaultdict(int)\n",
    "        for i in reactions[0].strip().split(\", \"):\n",
    "            i = i.strip().split()\n",
    "            ins[i[1]] = int(i[0])\n",
    "            \n",
    "        recipes[out] = ins"
   ]
  },
  {
   "cell_type": "code",
   "execution_count": 5,
   "metadata": {},
   "outputs": [],
   "source": [
    "def get_ore(required_materials, num_iters):\n",
    "    \n",
    "    print(dict(required_materials), num_iters)\n",
    "    ore_total = 0\n",
    "    \n",
    "    if ore in required_materials:\n",
    "        print('ore', num_iters * required_materials[ore])\n",
    "        return num_iters * required_materials[ore]\n",
    "        \n",
    "    else:\n",
    "        for material, amount in required_materials.items():\n",
    "            req = amount * num_iters\n",
    "            new_num_iters = ceil(req / out_quantities[material])\n",
    "            req_mats = recipes[material]\n",
    "            ore_total += get_ore(req_mats, new_num_iters)\n",
    "        return ore_total"
   ]
  },
  {
   "cell_type": "code",
   "execution_count": 6,
   "metadata": {},
   "outputs": [
    {
     "name": "stdout",
     "output_type": "stream",
     "text": [
      "{'AB': 2, 'BC': 3, 'CA': 4} 1\n",
      "{'A': 3, 'B': 4} 2\n",
      "{'ORE': 9} 3\n",
      "ore 27\n",
      "{'ORE': 8} 3\n",
      "ore 24\n",
      "{'B': 5, 'C': 7} 3\n",
      "{'ORE': 8} 5\n",
      "ore 40\n",
      "{'ORE': 7} 5\n",
      "ore 35\n",
      "{'C': 4, 'A': 1} 4\n",
      "{'ORE': 7} 4\n",
      "ore 28\n",
      "{'ORE': 9} 2\n",
      "ore 18\n"
     ]
    },
    {
     "data": {
      "text/plain": [
       "172"
      ]
     },
     "execution_count": 6,
     "metadata": {},
     "output_type": "execute_result"
    }
   ],
   "source": [
    "req_mats = recipes['FUEL']\n",
    "fuel_amount = 1\n",
    "\n",
    "ore_total = get_ore(req_mats, fuel_amount)\n",
    "ore_total"
   ]
  },
  {
   "cell_type": "code",
   "execution_count": null,
   "metadata": {},
   "outputs": [],
   "source": []
  }
 ],
 "metadata": {
  "kernelspec": {
   "display_name": "Python 3",
   "language": "python",
   "name": "python3"
  },
  "language_info": {
   "codemirror_mode": {
    "name": "ipython",
    "version": 3
   },
   "file_extension": ".py",
   "mimetype": "text/x-python",
   "name": "python",
   "nbconvert_exporter": "python",
   "pygments_lexer": "ipython3",
   "version": "3.7.4"
  }
 },
 "nbformat": 4,
 "nbformat_minor": 2
}
