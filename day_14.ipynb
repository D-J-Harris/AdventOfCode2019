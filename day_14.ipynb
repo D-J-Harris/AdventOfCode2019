{
 "cells": [
  {
   "cell_type": "code",
   "execution_count": 1,
   "metadata": {},
   "outputs": [],
   "source": [
    "from collections import defaultdict\n",
    "from math import ceil\n",
    "ore = 'ORE'\n",
    "fuel = 'FUEL'"
   ]
  },
  {
   "cell_type": "code",
   "execution_count": 2,
   "metadata": {},
   "outputs": [],
   "source": [
    "# dict of the ingredients for a given output\n",
    "recipes = defaultdict(dict)\n",
    "\n",
    "# dict of how much of an output is made in its reaction\n",
    "out_quantities = defaultdict(int)\n",
    "\n",
    "with open(\"data/14_test_data.txt\", \"r\") as f:\n",
    "    \n",
    "    for line in f.readlines():\n",
    "        reactions = line.strip().split(\"=>\")\n",
    "    \n",
    "        out = reactions[1].strip().split()\n",
    "        out_quantities[out[1]] = int(out[0])\n",
    "        out = out[1]\n",
    "        \n",
    "        ins = defaultdict(int)\n",
    "        for i in reactions[0].strip().split(\", \"):\n",
    "            i = i.strip().split()\n",
    "            ins[i[1]] = int(i[0])\n",
    "            \n",
    "        recipes[out] = ins"
   ]
  },
  {
   "cell_type": "code",
   "execution_count": 3,
   "metadata": {},
   "outputs": [
    {
     "data": {
      "text/plain": [
       "defaultdict(dict,\n",
       "            {'STKFG': defaultdict(int,\n",
       "                         {'VPVL': 2, 'FWMGM': 7, 'CXFTF': 2, 'MNCFX': 11}),\n",
       "             'VPVL': defaultdict(int, {'NVRVD': 17, 'JNWZP': 3}),\n",
       "             'FUEL': defaultdict(int,\n",
       "                         {'STKFG': 53,\n",
       "                          'MNCFX': 6,\n",
       "                          'VJHF': 46,\n",
       "                          'HVMC': 81,\n",
       "                          'CXFTF': 68,\n",
       "                          'GNMV': 25}),\n",
       "             'FWMGM': defaultdict(int, {'VJHF': 22, 'MNCFX': 37}),\n",
       "             'NVRVD': defaultdict(int, {'ORE': 139}),\n",
       "             'JNWZP': defaultdict(int, {'ORE': 144}),\n",
       "             'HVMC': defaultdict(int,\n",
       "                         {'MNCFX': 5,\n",
       "                          'RFSQX': 7,\n",
       "                          'FWMGM': 2,\n",
       "                          'VPVL': 2,\n",
       "                          'CXFTF': 19}),\n",
       "             'GNMV': defaultdict(int,\n",
       "                         {'VJHF': 5, 'MNCFX': 7, 'VPVL': 9, 'CXFTF': 37}),\n",
       "             'MNCFX': defaultdict(int, {'ORE': 145}),\n",
       "             'CXFTF': defaultdict(int, {'NVRVD': 1}),\n",
       "             'RFSQX': defaultdict(int, {'VJHF': 1, 'MNCFX': 6}),\n",
       "             'VJHF': defaultdict(int, {'ORE': 176})})"
      ]
     },
     "execution_count": 3,
     "metadata": {},
     "output_type": "execute_result"
    }
   ],
   "source": [
    "recipes"
   ]
  },
  {
   "cell_type": "code",
   "execution_count": 15,
   "metadata": {},
   "outputs": [],
   "source": [
    "# return the dictionary of how many of each ore-made material is needed\n",
    "# (the base_ingreds dict)\n",
    "def get_constituents(all_ingreds):\n",
    "    \n",
    "    print(all_ingreds)\n",
    "     \n",
    "    all_ingreds_new = defaultdict(int)\n",
    "    all_constituents_flag = True\n",
    "    \n",
    "\n",
    "    for m, amount in all_ingreds.items():\n",
    "        num_iter = ceil(amount / out_quantities[m])\n",
    "        print(m, amount, num_iter)\n",
    "\n",
    "        if ore in recipes[m]:\n",
    "            all_ingreds_new[m] += amount * num_iter     \n",
    "                \n",
    "        elif m in all_ingreds_new:\n",
    "            all_constituents_flag = False\n",
    "            all_ingreds_new[m] += amount\n",
    "            \n",
    "        else:\n",
    "            all_constituents_flag = False\n",
    "            ingreds = recipes[m]\n",
    "            for k,v in ingreds.items():\n",
    "                all_ingreds_new[k] += v * num_iter\n",
    "            \n",
    "            \n",
    "    if all_constituents_flag:\n",
    "        return all_ingreds\n",
    "    else:\n",
    "         return get_constituents(all_ingreds_new)"
   ]
  },
  {
   "cell_type": "code",
   "execution_count": 16,
   "metadata": {},
   "outputs": [],
   "source": [
    "# function to return the ore needed based on constituent ingredients\n",
    "# to a material\n",
    "def calculate_ore(constituents):\n",
    "    ore_total = 0\n",
    "    \n",
    "    for m, amount in constituents.items():\n",
    "        num_iter = ceil(amount / out_quantities[m])\n",
    "        ore_total += recipes[m][ore] * num_iter\n",
    "        \n",
    "    return ore_total"
   ]
  },
  {
   "cell_type": "code",
   "execution_count": 17,
   "metadata": {},
   "outputs": [
    {
     "name": "stdout",
     "output_type": "stream",
     "text": [
      "defaultdict(<class 'int'>, {'STKFG': 53, 'MNCFX': 6, 'VJHF': 46, 'HVMC': 81, 'CXFTF': 68, 'GNMV': 25})\n",
      "STKFG 53 53\n",
      "MNCFX 6 1\n",
      "VJHF 46 8\n",
      "HVMC 81 27\n",
      "CXFTF 68 9\n",
      "GNMV 25 5\n",
      "defaultdict(<class 'int'>, {'VPVL': 205, 'FWMGM': 425, 'CXFTF': 872, 'MNCFX': 759, 'VJHF': 393, 'RFSQX': 189})\n",
      "VPVL 205 26\n",
      "FWMGM 425 85\n",
      "CXFTF 872 109\n",
      "MNCFX 759 127\n",
      "VJHF 393 66\n",
      "RFSQX 189 48\n",
      "defaultdict(<class 'int'>, {'NVRVD': 551, 'JNWZP': 78, 'VJHF': 27856, 'MNCFX': 99826})\n",
      "NVRVD 551 138\n",
      "JNWZP 78 12\n",
      "VJHF 27856 4643\n",
      "MNCFX 99826 16638\n"
     ]
    },
    {
     "data": {
      "text/plain": [
       "3250588"
      ]
     },
     "execution_count": 17,
     "metadata": {},
     "output_type": "execute_result"
    }
   ],
   "source": [
    "fuel_ingreds = recipes[fuel]\n",
    "constituents = get_constituents(fuel_ingreds)\n",
    "ore_total = calculate_ore(constituents)\n",
    "ore_total"
   ]
  },
  {
   "cell_type": "code",
   "execution_count": 18,
   "metadata": {},
   "outputs": [],
   "source": [
    "ore_total = calculate_ore({'NVRVD': 551, 'JNWZP': 78, 'VJHF': 2311, 'MNCFX': 4192})"
   ]
  },
  {
   "cell_type": "code",
   "execution_count": 19,
   "metadata": {},
   "outputs": [
    {
     "data": {
      "text/plain": [
       "190201"
      ]
     },
     "execution_count": 19,
     "metadata": {},
     "output_type": "execute_result"
    }
   ],
   "source": [
    "ore_total"
   ]
  },
  {
   "cell_type": "code",
   "execution_count": null,
   "metadata": {},
   "outputs": [],
   "source": []
  }
 ],
 "metadata": {
  "kernelspec": {
   "display_name": "Python 3",
   "language": "python",
   "name": "python3"
  },
  "language_info": {
   "codemirror_mode": {
    "name": "ipython",
    "version": 3
   },
   "file_extension": ".py",
   "mimetype": "text/x-python",
   "name": "python",
   "nbconvert_exporter": "python",
   "pygments_lexer": "ipython3",
   "version": "3.7.4"
  }
 },
 "nbformat": 4,
 "nbformat_minor": 2
}
