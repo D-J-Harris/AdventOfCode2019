{
 "cells": [
  {
   "cell_type": "code",
   "execution_count": 1,
   "metadata": {},
   "outputs": [],
   "source": [
    "from utils.computer import Computer\n",
    "from itertools import permutations"
   ]
  },
  {
   "cell_type": "code",
   "execution_count": 2,
   "metadata": {},
   "outputs": [],
   "source": [
    "# import data\n",
    "with open(\"data/07_data.txt\", \"r\") as f:\n",
    "    data = f.read().split(',')\n",
    "data = [int(x) for x in data]"
   ]
  },
  {
   "cell_type": "code",
   "execution_count": 3,
   "metadata": {},
   "outputs": [],
   "source": [
    "# set to False for part a of challenge\n",
    "feedback_mode = True\n",
    "outputs = []\n",
    "\n",
    "# each phase setting is only used once\n",
    "if feedback_mode:\n",
    "    phases = [5, 6, 7, 8, 9]\n",
    "else:\n",
    "    phases = [0, 1, 2, 3, 4]\n",
    "phase_combos = list(permutations(phases))\n",
    "\n",
    "\n",
    "for phase_combo in phase_combos:\n",
    "    \n",
    "    amps = [Computer(data, inputs=[phase]) for phase in phase_combo]\n",
    "    output = 0\n",
    "    \n",
    "    # run until the final amp has halted with opcode 99\n",
    "    while not amps[-1].halted:\n",
    "    \n",
    "        for amp in amps:\n",
    "            output = amp.run_computer(inputs=[output])\n",
    "            if output is not None:\n",
    "                outputs.append(output)"
   ]
  },
  {
   "cell_type": "code",
   "execution_count": 4,
   "metadata": {},
   "outputs": [
    {
     "data": {
      "text/plain": [
       "2645740"
      ]
     },
     "execution_count": 4,
     "metadata": {},
     "output_type": "execute_result"
    }
   ],
   "source": [
    "ans = max(outputs)\n",
    "ans"
   ]
  }
 ],
 "metadata": {
  "kernelspec": {
   "display_name": "Python 3",
   "language": "python",
   "name": "python3"
  },
  "language_info": {
   "codemirror_mode": {
    "name": "ipython",
    "version": 3
   },
   "file_extension": ".py",
   "mimetype": "text/x-python",
   "name": "python",
   "nbconvert_exporter": "python",
   "pygments_lexer": "ipython3",
   "version": "3.7.4"
  }
 },
 "nbformat": 4,
 "nbformat_minor": 2
}
