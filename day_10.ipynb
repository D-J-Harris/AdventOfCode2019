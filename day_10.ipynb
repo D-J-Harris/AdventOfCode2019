{
 "cells": [
  {
   "cell_type": "code",
   "execution_count": 1,
   "metadata": {},
   "outputs": [],
   "source": [
    "import numpy as np"
   ]
  },
  {
   "cell_type": "code",
   "execution_count": 2,
   "metadata": {},
   "outputs": [
    {
     "data": {
      "text/plain": [
       "[['.', '#', '.', '.', '#'],\n",
       " ['.', '.', '.', '.', '.'],\n",
       " ['#', '#', '#', '#', '#'],\n",
       " ['.', '.', '.', '.', '#'],\n",
       " ['.', '.', '.', '#', '#']]"
      ]
     },
     "execution_count": 2,
     "metadata": {},
     "output_type": "execute_result"
    }
   ],
   "source": [
    "with open(\"data/10_data.txt\", \"r\") as f:\n",
    "    space_map = []\n",
    "    for line in f.readlines():\n",
    "        space_map.append([x for x in line.strip()])\n",
    "\n",
    "space_map"
   ]
  },
  {
   "cell_type": "code",
   "execution_count": 3,
   "metadata": {},
   "outputs": [],
   "source": [
    "# returns the edges the are not along line of sight of the base point\n",
    "def get_edges(space_map, base):\n",
    "    \n",
    "    edges = set()\n",
    "    height = len(space_map)\n",
    "    width = len(space_map[0])\n",
    "    \n",
    "    for x in range(width):\n",
    "        edges.add((x,0))\n",
    "        edges.add((x,height-1))\n",
    "        \n",
    "    for y in range(height):\n",
    "        edges.add((0,y))\n",
    "        edges.add((width-1,y))\n",
    "        \n",
    "    if base[0] == 0 or base[0] == width-1:\n",
    "        for y in range(1,height-1):\n",
    "            if (base[0],y) in edges:\n",
    "                edges.remove((base[0],y))\n",
    "            \n",
    "    if base[1] == 0 or base[1] == height-1:\n",
    "        for x in range(1,width-1):\n",
    "            if (x,base[1]) in edges:\n",
    "                edges.remove((x,base[1]))\n",
    "                \n",
    "    if tuple(base) in edges:\n",
    "        edges.remove(tuple(base))\n",
    "        \n",
    "    return edges"
   ]
  },
  {
   "cell_type": "code",
   "execution_count": 4,
   "metadata": {},
   "outputs": [],
   "source": [
    "def get_factors(num1, num2):\n",
    "    n = []\n",
    "    for i in range(1, min(num1, num2)+1): \n",
    "        if num1%i == num2%i == 0: \n",
    "            n.append(i)\n",
    "    \n",
    "    if 1 in n:\n",
    "        n.remove(1)\n",
    "    return n"
   ]
  },
  {
   "cell_type": "code",
   "execution_count": 5,
   "metadata": {},
   "outputs": [],
   "source": [
    "def scan_count(space_map, base):\n",
    "    \n",
    "    edges = get_edges(space_map, base)\n",
    "    counter = 0\n",
    "    \n",
    "    for e in edges:\n",
    "        e = np.array(e)\n",
    "        diff = e - base\n",
    "        abs_diff = np.absolute(diff)\n",
    "        factors = get_factors(abs_diff[0], abs_diff[1])\n",
    "        \n",
    "        sites = [e]\n",
    "        \n",
    "        if not factors:\n",
    "            if diff[0] == 0:\n",
    "                if diff[1] > base[1]:\n",
    "                    sites = [[base[0],y] for y in range(base[1]+1,e[1]+1)]\n",
    "                else:\n",
    "                    sites = [[base[0],y] for y in range(e[1],base[1])]\n",
    "            elif diff[1] == 0:\n",
    "                if diff[0] > base[0]:\n",
    "                    sites = [[x,base[1]] for x in range(base[0]+1,e[0]+1)]\n",
    "                else:\n",
    "                    sites = [[x,base[1]] for x in range(e[0],base[0])]\n",
    "                \n",
    "        else:\n",
    "            for f in factors:\n",
    "                sites.append(base + diff/f)\n",
    "            \n",
    "        for s in sites:\n",
    "            x = int(s[0])\n",
    "            y = int(s[1])\n",
    "            if space_map[y][x] == '#':\n",
    "                counter += 1\n",
    "                break\n",
    "    return counter"
   ]
  },
  {
   "cell_type": "code",
   "execution_count": 6,
   "metadata": {},
   "outputs": [
    {
     "data": {
      "text/plain": [
       "[['.', '6', '.', '.', '1'],\n",
       " ['.', '.', '.', '.', '.'],\n",
       " ['6', '5', '4', '3', '0'],\n",
       " ['.', '.', '.', '.', '0'],\n",
       " ['.', '.', '.', '3', '0']]"
      ]
     },
     "execution_count": 6,
     "metadata": {},
     "output_type": "execute_result"
    }
   ],
   "source": [
    "height = len(space_map)\n",
    "width = len(space_map[0])\n",
    "\n",
    "for x in range(width):\n",
    "    for y in range(height):\n",
    "        \n",
    "        if space_map[y][x] == '#':        \n",
    "            base = np.array([x,y])\n",
    "            count = scan_count(space_map, base)\n",
    "            space_map[y][x] = str(count)\n",
    "space_map"
   ]
  }
 ],
 "metadata": {
  "kernelspec": {
   "display_name": "Python 3",
   "language": "python",
   "name": "python3"
  },
  "language_info": {
   "codemirror_mode": {
    "name": "ipython",
    "version": 3
   },
   "file_extension": ".py",
   "mimetype": "text/x-python",
   "name": "python",
   "nbconvert_exporter": "python",
   "pygments_lexer": "ipython3",
   "version": "3.7.4"
  }
 },
 "nbformat": 4,
 "nbformat_minor": 2
}
