{
 "cells": [
  {
   "cell_type": "code",
   "execution_count": 1,
   "metadata": {},
   "outputs": [],
   "source": [
    "import numpy as np\n",
    "import matplotlib.pyplot as plt\n",
    "from matplotlib import colors"
   ]
  },
  {
   "cell_type": "code",
   "execution_count": 2,
   "metadata": {},
   "outputs": [],
   "source": [
    "with open(\"data/8_data.txt\") as f:\n",
    "    data = f.readline()\n",
    "data = np.array([int(x) for x in data])"
   ]
  },
  {
   "cell_type": "code",
   "execution_count": 3,
   "metadata": {},
   "outputs": [],
   "source": [
    "height = 6\n",
    "width = 25\n",
    "data_length = len(data)\n",
    "window_width = data_length // (height* width)\n",
    "layers = np.split(data, window_width)"
   ]
  },
  {
   "cell_type": "code",
   "execution_count": 4,
   "metadata": {
    "scrolled": false
   },
   "outputs": [
    {
     "data": {
      "text/plain": [
       "1548"
      ]
     },
     "execution_count": 4,
     "metadata": {},
     "output_type": "execute_result"
    }
   ],
   "source": [
    "layer_idx = 0\n",
    "num_zero_count = 9999\n",
    "\n",
    "final_image = 2 * np.ones((height, width), dtype=int)\n",
    "\n",
    "for idx, layer in enumerate(layers):\n",
    "    num_zeros = np.count_nonzero(layer == 0)\n",
    "    \n",
    "    layer = layer.reshape(height, width)\n",
    "    final_image = np.where(final_image == 2, layer, final_image)\n",
    "\n",
    "    if num_zeros < num_zero_count:\n",
    "        layer_idx = idx\n",
    "        num_zero_count = num_zeros\n",
    "\n",
    "layer = layers[layer_idx]\n",
    "num_ones = np.count_nonzero(layer == 1)\n",
    "num_twos = np.count_nonzero(layer == 2)\n",
    "ans_1 = num_ones * num_twos\n",
    "ans_1"
   ]
  },
  {
   "cell_type": "code",
   "execution_count": 5,
   "metadata": {},
   "outputs": [
    {
     "data": {
      "text/plain": [
       "<matplotlib.image.AxesImage at 0x1180bb6d0>"
      ]
     },
     "execution_count": 5,
     "metadata": {},
     "output_type": "execute_result"
    },
    {
     "data": {
      "image/png": "[encoded data removed]",
      "text/plain": [
       "<Figure size 432x288 with 1 Axes>"
      ]
     },
     "metadata": {
      "needs_background": "light"
     },
     "output_type": "display_data"
    }
   ],
   "source": [
    "fig, ax = plt.subplots()\n",
    "cmap = colors.ListedColormap(['black', 'white', 'white'])\n",
    "ax.imshow(final_image, cmap=cmap)"
   ]
  }
 ],
 "metadata": {
  "kernelspec": {
   "display_name": "Python 3",
   "language": "python",
   "name": "python3"
  },
  "language_info": {
   "codemirror_mode": {
    "name": "ipython",
    "version": 3
   },
   "file_extension": ".py",
   "mimetype": "text/x-python",
   "name": "python",
   "nbconvert_exporter": "python",
   "pygments_lexer": "ipython3",
   "version": "3.7.4"
  }
 },
 "nbformat": 4,
 "nbformat_minor": 2
}
