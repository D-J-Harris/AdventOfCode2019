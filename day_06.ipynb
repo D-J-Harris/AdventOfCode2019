{
 "cells": [
  {
   "cell_type": "code",
   "execution_count": 1,
   "metadata": {},
   "outputs": [],
   "source": [
    "from collections import defaultdict, Counter"
   ]
  },
  {
   "cell_type": "code",
   "execution_count": 2,
   "metadata": {},
   "outputs": [],
   "source": [
    "# import data\n",
    "with open(\"data/6_data.txt\", \"r\") as f:\n",
    "    orbits = []\n",
    "    planets = []\n",
    "    for line in f.readlines():\n",
    "        orbits.append(line.strip().split(')'))\n",
    "        planets.append(line.strip()[:3])\n",
    "        planets.append(line.strip()[4:])"
   ]
  },
  {
   "cell_type": "code",
   "execution_count": 3,
   "metadata": {},
   "outputs": [],
   "source": [
    "# create graph with dict of sets, and find unique planets\n",
    "graph = defaultdict(set)\n",
    "for orbit in orbits:\n",
    "    graph[orbit[0]].add(orbit[1])\n",
    "planets = Counter(planets)"
   ]
  },
  {
   "cell_type": "code",
   "execution_count": 4,
   "metadata": {},
   "outputs": [],
   "source": [
    "visited = set({'COM'})\n",
    "new_visits = set({'COM'})\n",
    "visited_updates = set()\n",
    "\n",
    "steps = 0\n",
    "orbits = 0\n",
    "while new_visits:\n",
    "    \n",
    "    #BFS    \n",
    "    for prev_planet in new_visits:\n",
    "        update = graph[prev_planet]\n",
    "        visited_updates.update(update)\n",
    "\n",
    "    visited.update(visited_updates)\n",
    "    new_visits = visited_updates\n",
    "    visited_updates = set()\n",
    "    \n",
    "    steps += 1\n",
    "    orbits += steps * len(new_visits)\n",
    "    \n",
    "    # counter dict of number of steps from COM\n",
    "    for planet in new_visits:\n",
    "        planets[planet] = steps"
   ]
  },
  {
   "cell_type": "code",
   "execution_count": 5,
   "metadata": {},
   "outputs": [
    {
     "data": {
      "text/plain": [
       "387356"
      ]
     },
     "execution_count": 5,
     "metadata": {},
     "output_type": "execute_result"
    }
   ],
   "source": [
    "ans_1 = orbits\n",
    "ans_1"
   ]
  },
  {
   "cell_type": "code",
   "execution_count": 6,
   "metadata": {},
   "outputs": [],
   "source": [
    "# return path from start node to end node\n",
    "def find_path(graph, start, end, path=[]):\n",
    "        path = path + [start]\n",
    "        if start == end:\n",
    "            return path\n",
    "        if start not in graph:\n",
    "            return None\n",
    "        for node in graph[start]:\n",
    "            if node not in path:\n",
    "                newpath = find_path(graph, node, end, path)\n",
    "                if newpath: return newpath\n",
    "        return None"
   ]
  },
  {
   "cell_type": "code",
   "execution_count": 7,
   "metadata": {},
   "outputs": [],
   "source": [
    "you_path = find_path(graph, 'COM', 'YOU')\n",
    "santa_path = find_path(graph, 'COM', 'SAN')\n",
    "i = 0\n",
    "while you_path[i] is santa_path[i]:\n",
    "    i += 1\n",
    "common = you_path[i-1]"
   ]
  },
  {
   "cell_type": "code",
   "execution_count": 8,
   "metadata": {},
   "outputs": [
    {
     "data": {
      "text/plain": [
       "532"
      ]
     },
     "execution_count": 8,
     "metadata": {},
     "output_type": "execute_result"
    }
   ],
   "source": [
    "ans_2 = planets['YOU'] + planets['SAN'] - 2 * planets[common] - 2\n",
    "ans_2"
   ]
  }
 ],
 "metadata": {
  "kernelspec": {
   "display_name": "Python 3",
   "language": "python",
   "name": "python3"
  },
  "language_info": {
   "codemirror_mode": {
    "name": "ipython",
    "version": 3
   },
   "file_extension": ".py",
   "mimetype": "text/x-python",
   "name": "python",
   "nbconvert_exporter": "python",
   "pygments_lexer": "ipython3",
   "version": "3.7.4"
  }
 },
 "nbformat": 4,
 "nbformat_minor": 2
}
