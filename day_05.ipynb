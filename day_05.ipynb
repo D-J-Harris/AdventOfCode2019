{
 "cells": [
  {
   "cell_type": "code",
   "execution_count": 1,
   "metadata": {},
   "outputs": [],
   "source": [
    "from copy import deepcopy"
   ]
  },
  {
   "cell_type": "code",
   "execution_count": 2,
   "metadata": {},
   "outputs": [],
   "source": [
    "# import data\n",
    "with open(\"data/5_data.txt\", \"r\") as f:\n",
    "    data = f.read().split(',')\n",
    "data_master = [int(x) for x in data]"
   ]
  },
  {
   "cell_type": "code",
   "execution_count": 3,
   "metadata": {},
   "outputs": [],
   "source": [
    "# perform input instruction\n",
    "# input number is 1 for part a of the challenge\n",
    "input_number = 5\n",
    "idx = data_master[1]\n",
    "data_master[idx] = input_number"
   ]
  },
  {
   "cell_type": "code",
   "execution_count": 4,
   "metadata": {},
   "outputs": [],
   "source": [
    "# dict for finding how many parameters in instruction\n",
    "instruction_length_dict = {\n",
    "    99: 1,\n",
    "    1: 3,\n",
    "    2: 3,\n",
    "    3: 1,\n",
    "    4: 1,\n",
    "    5: 2,\n",
    "    6: 2,\n",
    "    7: 3,\n",
    "    8: 3\n",
    "}"
   ]
  },
  {
   "cell_type": "code",
   "execution_count": 5,
   "metadata": {},
   "outputs": [],
   "source": [
    "# returns opcode of instruction, and modes of the parameters\n",
    "def process_instruction(instruct_value):\n",
    "\n",
    "    if instruct_value == 99:\n",
    "        return instruct_value, [0]\n",
    "    \n",
    "    op_length = len(str(instruct_value))\n",
    "    \n",
    "    # assume all params in position mode in this case\n",
    "    if op_length == 1:\n",
    "        length = instruction_length_dict[instruct_value]\n",
    "        \n",
    "        modes = [0 for _ in range(length)]\n",
    "        opcode = instruct_value\n",
    "    \n",
    "    else:\n",
    "        opcode = instruct_value % 100\n",
    "        length = instruction_length_dict[opcode]\n",
    "        \n",
    "        instruct_value = [int(x) for x in str(instruct_value)]\n",
    "        modes = [instruct_value[-i-3] if i < len(instruct_value)-2 else 0 for i in range(length)]\n",
    "    return opcode, modes"
   ]
  },
  {
   "cell_type": "code",
   "execution_count": 6,
   "metadata": {},
   "outputs": [],
   "source": [
    "def get_param(data, instruction, modes, idx):\n",
    "    \n",
    "    if modes[idx] == 0:\n",
    "        return data[instruction[idx]]\n",
    "    else:\n",
    "        return instruction[idx]"
   ]
  },
  {
   "cell_type": "code",
   "execution_count": 7,
   "metadata": {},
   "outputs": [],
   "source": [
    "def computer(data):\n",
    "    \n",
    "    # make copy so original data can be reused\n",
    "    data = deepcopy(data_master)\n",
    "    \n",
    "    # position of pointer in data array - starts after input instruction\n",
    "    pointer = 2\n",
    "    \n",
    "    # loop until halt with opcode 99\n",
    "    while True:\n",
    "\n",
    "        opcode_instruction = data[pointer]\n",
    "        opcode, modes = process_instruction(opcode_instruction)\n",
    "\n",
    "        instruction = data[pointer + 1 : pointer + len(modes) + 1]\n",
    "\n",
    "        if opcode == 99:\n",
    "            print(\"Opcode 99, halt\")\n",
    "            break\n",
    "        elif opcode == 1:\n",
    "    \n",
    "            param_1 = get_param(data, instruction, modes, 0)\n",
    "            param_2 = get_param(data, instruction, modes, 1)\n",
    "            output_idx = instruction[2]\n",
    "            \n",
    "            addition = param_1 + param_2\n",
    "            data[output_idx] = addition\n",
    "            pointer += len(modes) + 1 \n",
    "            \n",
    "        elif opcode == 2:\n",
    "            \n",
    "            param_1 = get_param(data, instruction, modes, 0)\n",
    "            param_2 = get_param(data, instruction, modes, 1)\n",
    "            output_idx = instruction[2]\n",
    "            \n",
    "            multiply = param_1 * param_2\n",
    "            data[output_idx] = multiply\n",
    "            pointer += len(modes) + 1 \n",
    "            \n",
    "        elif opcode == 3:\n",
    "            \n",
    "            print(\"Implement taking an input\")\n",
    "            pointer += len(modes) + 1 \n",
    "            \n",
    "        elif opcode == 4:\n",
    "            \n",
    "            output = get_param(data, instruction, modes, 0)\n",
    "            print(\"Opcode 4 output:\", output)\n",
    "            pointer += len(modes) + 1 \n",
    "            \n",
    "        elif opcode == 5:\n",
    "            \n",
    "            param_1 = get_param(data, instruction, modes, 0)\n",
    "            param_2 = get_param(data, instruction, modes, 1)\n",
    "            if param_1 != 0:\n",
    "                pointer = param_2\n",
    "            else:\n",
    "                pointer += len(modes) + 1 \n",
    "        \n",
    "        elif opcode == 6:\n",
    "            \n",
    "            param_1 = get_param(data, instruction, modes, 0)\n",
    "            param_2 = get_param(data, instruction, modes, 1)\n",
    "            if param_1 == 0:\n",
    "                pointer = param_2\n",
    "            else:\n",
    "                pointer += len(modes) + 1\n",
    "                \n",
    "        elif opcode == 7:\n",
    "            \n",
    "            param_1 = get_param(data, instruction, modes, 0)\n",
    "            param_2 = get_param(data, instruction, modes, 1)\n",
    "            param_3 = instruction[2]\n",
    "            if param_1 < param_2:\n",
    "                data[param_3] = 1\n",
    "            else:\n",
    "                data[param_3] = 0\n",
    "            pointer += len(modes) + 1\n",
    "                \n",
    "        elif opcode == 8:\n",
    "            \n",
    "            param_1 = get_param(data, instruction, modes, 0)\n",
    "            param_2 = get_param(data, instruction, modes, 1)\n",
    "            param_3 = instruction[2]\n",
    "            if param_1 == param_2:\n",
    "                data[param_3] = 1\n",
    "            else:\n",
    "                data[param_3] = 0\n",
    "            pointer += len(modes) + 1\n",
    "  \n",
    "        else:\n",
    "            print(\"Opcode Error\")     "
   ]
  },
  {
   "cell_type": "code",
   "execution_count": 8,
   "metadata": {},
   "outputs": [
    {
     "name": "stdout",
     "output_type": "stream",
     "text": [
      "Opcode 4 output: 236453\n",
      "Opcode 99, halt\n"
     ]
    }
   ],
   "source": [
    "computer(data_master)"
   ]
  }
 ],
 "metadata": {
  "kernelspec": {
   "display_name": "Python 3",
   "language": "python",
   "name": "python3"
  },
  "language_info": {
   "codemirror_mode": {
    "name": "ipython",
    "version": 3
   },
   "file_extension": ".py",
   "mimetype": "text/x-python",
   "name": "python",
   "nbconvert_exporter": "python",
   "pygments_lexer": "ipython3",
   "version": "3.7.4"
  }
 },
 "nbformat": 4,
 "nbformat_minor": 2
}
