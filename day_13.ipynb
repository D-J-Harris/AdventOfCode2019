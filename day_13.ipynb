{
 "cells": [
  {
   "cell_type": "code",
   "execution_count": 1,
   "metadata": {},
   "outputs": [],
   "source": [
    "from utils.computer import Computer\n",
    "from collections import defaultdict, Counter\n",
    "from copy import deepcopy as cp"
   ]
  },
  {
   "cell_type": "code",
   "execution_count": 2,
   "metadata": {},
   "outputs": [],
   "source": [
    "# import data\n",
    "with open(\"data/13_data.txt\", \"r\") as f:\n",
    "    data = f.read().split(',')\n",
    "data = [int(x) for x in data]"
   ]
  },
  {
   "cell_type": "code",
   "execution_count": 3,
   "metadata": {},
   "outputs": [],
   "source": [
    "data_1 = cp(data)\n",
    "computer = Computer(data_1)\n",
    "outputs = []\n",
    "\n",
    "while not computer.halted:\n",
    "    output = computer.run_computer()\n",
    "    outputs.append(output)"
   ]
  },
  {
   "cell_type": "code",
   "execution_count": 4,
   "metadata": {},
   "outputs": [],
   "source": [
    "tiles = defaultdict(int)\n",
    "counter = 0\n",
    "length = len(outputs)\n",
    "\n",
    "while counter+2 < length:\n",
    "    x, y = outputs[counter], outputs[counter+1]\n",
    "    tile = outputs[counter+2]\n",
    "    \n",
    "    tiles[(x,y)] = tile\n",
    "    counter += 3"
   ]
  },
  {
   "cell_type": "code",
   "execution_count": 5,
   "metadata": {},
   "outputs": [
    {
     "data": {
      "text/plain": [
       "357"
      ]
     },
     "execution_count": 5,
     "metadata": {},
     "output_type": "execute_result"
    }
   ],
   "source": [
    "tile_counter = Counter(tiles.values())\n",
    "ans = tile_counter[2]\n",
    "ans"
   ]
  },
  {
   "cell_type": "code",
   "execution_count": 6,
   "metadata": {},
   "outputs": [
    {
     "data": {
      "text/plain": [
       "17468"
      ]
     },
     "execution_count": 6,
     "metadata": {},
     "output_type": "execute_result"
    }
   ],
   "source": [
    "data_2 = cp(data)\n",
    "data_2[0] = 2\n",
    "\n",
    "ball = pad = 0\n",
    "computer = Computer(data_2, input_func = lambda: (ball > paddle) - (ball < paddle))\n",
    "score = 0\n",
    "\n",
    "# play game\n",
    "while not computer.halted:\n",
    "    x = computer.run_computer()\n",
    "    y = computer.run_computer()\n",
    "    out = computer.run_computer()\n",
    "    \n",
    "    if not computer.halted:\n",
    "        if out == 3:\n",
    "            paddle = x\n",
    "        if out == 4:\n",
    "            ball = x\n",
    "    \n",
    "    if x == -1 and y == 0:\n",
    "        score = out\n",
    "\n",
    "ans = score\n",
    "ans"
   ]
  }
 ],
 "metadata": {
  "kernelspec": {
   "display_name": "Python 3",
   "language": "python",
   "name": "python3"
  },
  "language_info": {
   "codemirror_mode": {
    "name": "ipython",
    "version": 3
   },
   "file_extension": ".py",
   "mimetype": "text/x-python",
   "name": "python",
   "nbconvert_exporter": "python",
   "pygments_lexer": "ipython3",
   "version": "3.7.4"
  }
 },
 "nbformat": 4,
 "nbformat_minor": 2
}
