{
 "cells": [
  {
   "cell_type": "markdown",
   "metadata": {},
   "source": [
    "## Puzzle 4"
   ]
  },
  {
   "cell_type": "code",
   "execution_count": 3,
   "metadata": {},
   "outputs": [],
   "source": [
    "import numpy as np\n",
    "import itertools"
   ]
  },
  {
   "cell_type": "code",
   "execution_count": 25,
   "metadata": {},
   "outputs": [
    {
     "data": {
      "text/plain": [
       "2090"
      ]
     },
     "execution_count": 25,
     "metadata": {},
     "output_type": "execute_result"
    }
   ],
   "source": [
    "ans = 0\n",
    "for ele in  itertools.product(\"0123456789\",repeat=6):\n",
    "    \n",
    "    lower = 130254\n",
    "    upper = 678275\n",
    "    code = \"\".join(ele)\n",
    "    \n",
    "    if lower <= int(code) <= upper:\n",
    "        decrease_flag = False\n",
    "        adjacent_flag = False\n",
    "        \n",
    "        # scan across digits, checking for rule\n",
    "        for i in range(5):\n",
    "            \n",
    "            int_0 = int(code[i])\n",
    "            int_1 = int(code[i+1])\n",
    "            if int_1 < int_0:\n",
    "                decrease_flag = True\n",
    "                break\n",
    "                \n",
    "            if int_1 == int_0:\n",
    "                adjacent_flag = True\n",
    "        \n",
    "    if adjacent_flag and not decrease_flag:\n",
    "        ans += 1    \n",
    "ans"
   ]
  },
  {
   "cell_type": "markdown",
   "metadata": {},
   "source": [
    "More or less the same code for part (b):"
   ]
  },
  {
   "cell_type": "code",
   "execution_count": 26,
   "metadata": {},
   "outputs": [
    {
     "data": {
      "text/plain": [
       "1419"
      ]
     },
     "execution_count": 26,
     "metadata": {},
     "output_type": "execute_result"
    }
   ],
   "source": [
    "ans = 0\n",
    "for ele in  itertools.product(\"0123456789\",repeat=6):\n",
    "    \n",
    "    lower = 130254\n",
    "    upper = 678275\n",
    "    code = \"\".join(ele)\n",
    "    \n",
    "    if lower <= int(code) <= upper:\n",
    "        decrease_flag = False\n",
    "        adjacent_flag = False\n",
    "        digit_pair = False\n",
    "        adjacent_counter = 0\n",
    "        \n",
    "        # scan across digits, checking for rule\n",
    "        for i in range(5):\n",
    "            \n",
    "            int_0 = int(code[i])\n",
    "            int_1 = int(code[i+1])\n",
    "            if int_1 < int_0:\n",
    "                decrease_flag = True\n",
    "                break\n",
    "            \n",
    "            \n",
    "            if int_1 == int_0:\n",
    "                adjacent_counter += 1\n",
    "                if not adjacent_flag:\n",
    "                    adjacent_flag = True\n",
    "                    \n",
    "            elif adjacent_counter == 1:\n",
    "                digit_pair = True\n",
    "                adjacent_flag = False\n",
    "                adjacent_counter = 0\n",
    "                \n",
    "            else:\n",
    "                adjacent_flag = False\n",
    "                adjacent_counter = 0\n",
    "    \n",
    "    # catch case where the pair was on the end\n",
    "    if adjacent_counter == 1:\n",
    "        digit_pair = True\n",
    "        \n",
    "    if digit_pair and not decrease_flag:\n",
    "        ans += 1    \n",
    "ans"
   ]
  }
 ],
 "metadata": {
  "kernelspec": {
   "display_name": "Python 3",
   "language": "python",
   "name": "python3"
  }
 },
 "nbformat": 4,
 "nbformat_minor": 2
}
