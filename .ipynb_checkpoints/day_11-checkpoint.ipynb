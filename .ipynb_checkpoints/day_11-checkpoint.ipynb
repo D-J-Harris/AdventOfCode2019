{
 "cells": [
  {
   "cell_type": "code",
   "execution_count": 1,
   "metadata": {},
   "outputs": [],
   "source": [
    "from utils.computer import Computer\n",
    "import numpy as np\n",
    "from collections import defaultdict\n",
    "from copy import deepcopy as cp\n",
    "import matplotlib.pyplot as plt"
   ]
  },
  {
   "cell_type": "code",
   "execution_count": 2,
   "metadata": {},
   "outputs": [],
   "source": [
    "# import data\n",
    "with open(\"data/11_data.txt\", \"r\") as f:\n",
    "    data = f.read().split(',')\n",
    "data = [int(x) for x in data]"
   ]
  },
  {
   "cell_type": "code",
   "execution_count": 3,
   "metadata": {},
   "outputs": [],
   "source": [
    "class Robot:\n",
    "    angles = ['UP', 'RIGHT', 'DOWN', 'LEFT']\n",
    "    \n",
    "    def __init__(self, coord, angle_pointer=0):\n",
    "        self.coord = coord\n",
    "        \n",
    "        # angles array and pointer to define current angle\n",
    "        self.angle_pointer = angle_pointer\n",
    "        \n",
    "        #define a dict of tuple changes depending on dir\n",
    "        self.move_dict = {\n",
    "            'UP': np.array([0, -1]),\n",
    "            'RIGHT': np.array([1, 0]),\n",
    "            'DOWN': np.array([0, 1]),\n",
    "            'LEFT': np.array([-1, 0])}\n",
    "        \n",
    "    @property\n",
    "    def angle(self):\n",
    "        return self.angles[self.angle_pointer % 4]"
   ]
  },
  {
   "cell_type": "code",
   "execution_count": 4,
   "metadata": {},
   "outputs": [],
   "source": [
    "# method returns coord dict of the painted colors on the ship\n",
    "def get_color_coords(start_color, data):\n",
    "    \n",
    "    # define a robot and starting conditions (assumed up)\n",
    "    start_coord = np.array([0, 0])\n",
    "    robot = Robot(start_coord)\n",
    "\n",
    "    # defaultdict to keep track of coords painted\n",
    "    coords_visited = defaultdict(int)\n",
    "    coords_visited[tuple(robot.coord)] = start_color\n",
    "    computer = Computer(data)\n",
    "\n",
    "    while not computer.halted:\n",
    "\n",
    "        # check the color of the tile the robot is over\n",
    "        input_color = coords_visited.get(tuple(robot.coord), 0)\n",
    "\n",
    "        color = computer.run_computer(inputs=[input_color])\n",
    "        turn = computer.run_computer()\n",
    "\n",
    "        # if halted, break\n",
    "        if color is None or turn is None:\n",
    "            break\n",
    "\n",
    "        coords_visited[tuple(robot.coord)] = color\n",
    "        if turn:\n",
    "            robot.angle_pointer += 1 \n",
    "        else:\n",
    "            robot.angle_pointer -= 1\n",
    "\n",
    "        # move the robot according to new angle\n",
    "        robot.coord += robot.move_dict[robot.angle]\n",
    "        \n",
    "    return coords_visited"
   ]
  },
  {
   "cell_type": "code",
   "execution_count": 5,
   "metadata": {},
   "outputs": [
    {
     "data": {
      "text/plain": [
       "2594"
      ]
     },
     "execution_count": 5,
     "metadata": {},
     "output_type": "execute_result"
    }
   ],
   "source": [
    "data_1 = cp(data)\n",
    "color_coords = get_color_coords(0, data_1)\n",
    "ans = len(color_coords)\n",
    "ans"
   ]
  },
  {
   "cell_type": "code",
   "execution_count": 8,
   "metadata": {},
   "outputs": [],
   "source": [
    "data_2 = cp(data)\n",
    "color_coords = get_color_coords(1, data_2)\n",
    "\n",
    "xx = []\n",
    "yy = []\n",
    "for coord, color in color_coords.items():\n",
    "    if color:\n",
    "        xx.append(coord[0])\n",
    "        yy.append(coord[1])"
   ]
  },
  {
   "cell_type": "code",
   "execution_count": 9,
   "metadata": {},
   "outputs": [
    {
     "data": {
      "image/png": "[encoded data removed]",
      "text/plain": [
       "<Figure size 432x288 with 1 Axes>"
      ]
     },
     "metadata": {
      "needs_background": "light"
     },
     "output_type": "display_data"
    }
   ],
   "source": [
    "plt.scatter(xx, yy)\n",
    "plt.ylim(min(yy)-20, max(yy)+20)\n",
    "plt.gca().invert_yaxis()"
   ]
  }
 ],
 "metadata": {
  "kernelspec": {
   "display_name": "Python 3",
   "language": "python",
   "name": "python3"
  },
  "language_info": {
   "codemirror_mode": {
    "name": "ipython",
    "version": 3
   },
   "file_extension": ".py",
   "mimetype": "text/x-python",
   "name": "python",
   "nbconvert_exporter": "python",
   "pygments_lexer": "ipython3",
   "version": "3.7.4"
  }
 },
 "nbformat": 4,
 "nbformat_minor": 2
}
