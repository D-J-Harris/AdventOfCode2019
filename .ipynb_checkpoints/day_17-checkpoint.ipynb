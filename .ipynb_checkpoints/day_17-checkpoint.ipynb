{
 "cells": [
  {
   "cell_type": "code",
   "execution_count": 1,
   "metadata": {},
   "outputs": [],
   "source": [
    "from utils.computer import Computer\n",
    "from utils.robot import Robot\n",
    "import numpy as np\n",
    "from copy import deepcopy as cp\n",
    "import sys\n",
    "np.set_printoptions(threshold=sys.maxsize)"
   ]
  },
  {
   "cell_type": "code",
   "execution_count": 2,
   "metadata": {},
   "outputs": [],
   "source": [
    "# import data\n",
    "with open(\"data/17_data.txt\", \"r\") as f:\n",
    "    data = f.read().split(',')\n",
    "data = [int(x) for x in data]"
   ]
  },
  {
   "cell_type": "code",
   "execution_count": 3,
   "metadata": {},
   "outputs": [],
   "source": [
    "data_1 = cp(data)\n",
    "computer = Computer(data_1)\n",
    "outputs = []\n",
    "while not computer.halted:\n",
    "    output = computer.run_computer()\n",
    "    outputs.append(output)"
   ]
  },
  {
   "cell_type": "code",
   "execution_count": 4,
   "metadata": {},
   "outputs": [],
   "source": [
    "# make grid, remember final two outputs are also 10\n",
    "grid_width = outputs.index(10) + 1\n",
    "grid_height = len(outputs)//grid_width\n",
    "grid = np.reshape(outputs[:-2], (grid_height, grid_width))\n",
    "grid = np.delete(grid, -1, axis=1)"
   ]
  },
  {
   "cell_type": "code",
   "execution_count": 5,
   "metadata": {},
   "outputs": [
    {
     "data": {
      "text/plain": [
       "4112"
      ]
     },
     "execution_count": 5,
     "metadata": {},
     "output_type": "execute_result"
    }
   ],
   "source": [
    "grid_pad = np.pad(grid, 1, mode='constant')\n",
    "\n",
    "alignment_params = []\n",
    "for x in range(len(grid[0])):\n",
    "    for y in range(len(grid)):\n",
    "        if grid_pad[y+1][x+1] == 35:\n",
    "            if all([grid_pad[y+2][x+1] == 35,\n",
    "                   grid_pad[y][x+1] == 35,\n",
    "                   grid_pad[y+1][x+2] == 35,\n",
    "                   grid_pad[y+1][x] == 35]):\n",
    "\n",
    "                alignment_params.append(x * y)\n",
    "\n",
    "ans = sum(alignment_params)\n",
    "ans"
   ]
  },
  {
   "cell_type": "code",
   "execution_count": 6,
   "metadata": {},
   "outputs": [],
   "source": [
    "# get the routine that completes scaffold traversal\n",
    "y, x = np.where(grid_pad == ord('^'))\n",
    "pos = complex(x, y)\n",
    "r = Robot(grid_pad, pos)\n",
    "\n",
    "# while the robot hasn't turned all '#' to '.'\n",
    "# routine is in robot.grid\n",
    "while 35 in r.grid:\n",
    "\n",
    "    front_x, front_y = r.get_coord(r.angle)\n",
    "    left_x, left_y = r.get_coord(r.left_angle)\n",
    "    right_x, right_y = r.get_coord(r.right_angle)\n",
    "    \n",
    "    front_tile = r.grid[front_y][front_x]\n",
    "    left_tile = r.grid[left_y][left_x]\n",
    "    right_tile = r.grid[right_y][right_x]\n",
    "\n",
    "    \n",
    "    # if there is scaffold in front, move there and count this\n",
    "    if front_tile == 35:\n",
    "        \n",
    "        if left_tile == 35 or right_tile == 35:\n",
    "            r.grid[r.y][r.x] = 35\n",
    "        else:\n",
    "            r.grid[r.y][r.x] = 46\n",
    "            \n",
    "        r.pos += r.move_dict[r.angle]\n",
    "        r.grid[r.y][r.x] = ord(r.angles[r.angle_pointer%4])\n",
    "        r.path[-1][1] += 1\n",
    "\n",
    "    # otherwise check if you can turn\n",
    "    else:\n",
    "        \n",
    "        if r.grid[left_y][left_x] == 35:\n",
    "            r.grid[r.y][r.x] = 46\n",
    "            r.angle_pointer -=1\n",
    "            r.pos += r.move_dict[r.angle]\n",
    "            r.grid[r.y][r.x] = ord(r.angles[r.angle_pointer%4])\n",
    "            r.path.append(['L',1])\n",
    "            \n",
    "        elif r.grid[right_y][right_x] == 35:\n",
    "            r.grid[r.y][r.x] = 46\n",
    "            r.angle_pointer +=1\n",
    "            r.pos += r.move_dict[r.angle]\n",
    "            r.grid[r.y][r.x] = ord(r.angles[r.angle_pointer%4])\n",
    "            r.path.append(['R',1])\n",
    "            \n",
    "        # nowehere to go, all scaffold visited\n",
    "        else:\n",
    "            print('all scaffold visited')\n",
    "            break"
   ]
  },
  {
   "cell_type": "code",
   "execution_count": 7,
   "metadata": {},
   "outputs": [],
   "source": [
    "def intersperse(lst, item=','):\n",
    "    result = [item] * (len(lst) * 2 - 1)\n",
    "    result[0::2] = lst\n",
    "    return result"
   ]
  },
  {
   "cell_type": "code",
   "execution_count": 8,
   "metadata": {},
   "outputs": [],
   "source": [
    "def routine(lst):\n",
    "    newline_ascii = 10\n",
    "    return intersperse([ord(x) for x in lst], ord(',')) + [newline_ascii]"
   ]
  },
  {
   "cell_type": "code",
   "execution_count": 9,
   "metadata": {
    "scrolled": true
   },
   "outputs": [
    {
     "data": {
      "text/plain": [
       "10"
      ]
     },
     "execution_count": 9,
     "metadata": {},
     "output_type": "execute_result"
    }
   ],
   "source": [
    "data_2 = cp(data)\n",
    "data_2[0] = 2\n",
    "\n",
    "# routine found by printing r.path and eyeballing\n",
    "main = routine(['A','B','A','C','A','B','C','B','C','B'])\n",
    "A = routine(['R','1','0','R','1','0','R','6','R','4'])\n",
    "B = routine(['R','1','0','R','1','0','L','4'])\n",
    "C = routine(['R','4','L','4','L','1','0','L','1','0'])\n",
    "feed = routine(['n'])\n",
    "inputs = main + A + B + C + feed\n",
    "\n",
    "computer = Computer(data_2, inputs=inputs)\n",
    "while not computer.halted:\n",
    "    output = computer.run_computer()\n",
    "computer.output"
   ]
  },
  {
   "cell_type": "code",
   "execution_count": 11,
   "metadata": {},
   "outputs": [
    {
     "data": {
      "text/plain": [
       "[['R', 10],\n",
       " ['R', 10],\n",
       " ['R', 6],\n",
       " ['R', 4],\n",
       " ['R', 10],\n",
       " ['R', 10],\n",
       " ['L', 4],\n",
       " ['R', 10],\n",
       " ['R', 10],\n",
       " ['R', 6],\n",
       " ['R', 4],\n",
       " ['R', 4],\n",
       " ['L', 4],\n",
       " ['L', 10],\n",
       " ['L', 10],\n",
       " ['R', 10],\n",
       " ['R', 10],\n",
       " ['R', 6],\n",
       " ['R', 4],\n",
       " ['R', 10],\n",
       " ['R', 10],\n",
       " ['L', 4],\n",
       " ['R', 4],\n",
       " ['L', 4],\n",
       " ['L', 10],\n",
       " ['L', 10],\n",
       " ['R', 10],\n",
       " ['R', 10],\n",
       " ['L', 4],\n",
       " ['R', 4],\n",
       " ['L', 4],\n",
       " ['L', 10],\n",
       " ['L', 10],\n",
       " ['R', 10],\n",
       " ['R', 10],\n",
       " ['L', 4]]"
      ]
     },
     "execution_count": 11,
     "metadata": {},
     "output_type": "execute_result"
    }
   ],
   "source": [
    "r.path"
   ]
  },
  {
   "cell_type": "code",
   "execution_count": null,
   "metadata": {},
   "outputs": [],
   "source": []
  }
 ],
 "metadata": {
  "kernelspec": {
   "display_name": "Python 3",
   "language": "python",
   "name": "python3"
  },
  "language_info": {
   "codemirror_mode": {
    "name": "ipython",
    "version": 3
   },
   "file_extension": ".py",
   "mimetype": "text/x-python",
   "name": "python",
   "nbconvert_exporter": "python",
   "pygments_lexer": "ipython3",
   "version": "3.7.4"
  }
 },
 "nbformat": 4,
 "nbformat_minor": 2
}
