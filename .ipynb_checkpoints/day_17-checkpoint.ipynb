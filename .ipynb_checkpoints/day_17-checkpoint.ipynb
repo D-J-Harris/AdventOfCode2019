{
 "cells": [
  {
   "cell_type": "code",
   "execution_count": 1,
   "metadata": {},
   "outputs": [],
   "source": [
    "from utils.computer import Computer\n",
    "import numpy as np"
   ]
  },
  {
   "cell_type": "code",
   "execution_count": 2,
   "metadata": {},
   "outputs": [],
   "source": [
    "# import data\n",
    "with open(\"data/17_data.txt\", \"r\") as f:\n",
    "    data = f.read().split(',')\n",
    "data = [int(x) for x in data]"
   ]
  },
  {
   "cell_type": "code",
   "execution_count": 3,
   "metadata": {},
   "outputs": [],
   "source": [
    "computer = Computer(data)\n",
    "outputs = []\n",
    "while not computer.halted:\n",
    "    output = computer.run_computer()\n",
    "    outputs.append(output)"
   ]
  },
  {
   "cell_type": "code",
   "execution_count": 4,
   "metadata": {},
   "outputs": [],
   "source": [
    "# make grid, remember final two outputs are also 10\n",
    "grid_width = outputs.index(10) + 1\n",
    "grid_height = len(outputs)//grid_width\n",
    "grid = np.reshape(outputs[:-2], (grid_height, grid_width))\n",
    "grid = np.delete(grid, -1, axis=1)"
   ]
  },
  {
   "cell_type": "code",
   "execution_count": 19,
   "metadata": {},
   "outputs": [
    {
     "data": {
      "text/plain": [
       "4112"
      ]
     },
     "execution_count": 19,
     "metadata": {},
     "output_type": "execute_result"
    }
   ],
   "source": [
    "grid_pad = np.pad(grid, 1, mode='constant')\n",
    "\n",
    "alignment_params = []\n",
    "for x in range(len(grid[0])):\n",
    "    for y in range(len(grid)):\n",
    "        if grid_pad[y+1][x+1] == 35:\n",
    "            if all([grid_pad[y+2][x+1] == 35,\n",
    "                   grid_pad[y][x+1] == 35,\n",
    "                   grid_pad[y+1][x+2] == 35,\n",
    "                   grid_pad[y+1][x] == 35]):\n",
    "\n",
    "                alignment_params.append(x * y)\n",
    "\n",
    "ans = sum(alignment_params)\n",
    "ans"
   ]
  },
  {
   "cell_type": "code",
   "execution_count": null,
   "metadata": {},
   "outputs": [],
   "source": []
  }
 ],
 "metadata": {
  "kernelspec": {
   "display_name": "Python 3",
   "language": "python",
   "name": "python3"
  },
  "language_info": {
   "codemirror_mode": {
    "name": "ipython",
    "version": 3
   },
   "file_extension": ".py",
   "mimetype": "text/x-python",
   "name": "python",
   "nbconvert_exporter": "python",
   "pygments_lexer": "ipython3",
   "version": "3.7.4"
  }
 },
 "nbformat": 4,
 "nbformat_minor": 2
}
