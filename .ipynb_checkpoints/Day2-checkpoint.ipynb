{
 "cells": [
  {
   "cell_type": "code",
   "execution_count": 64,
   "metadata": {},
   "outputs": [],
   "source": [
    "import numpy as np"
   ]
  },
  {
   "cell_type": "code",
   "execution_count": 84,
   "metadata": {},
   "outputs": [],
   "source": [
    "# import data\n",
    "def import_data():\n",
    "    with open(\"day2_data.txt\", \"r\") as f:\n",
    "        data = f.read().split(',')\n",
    "    data = np.array([int(x) for x in data])\n",
    "    return data"
   ]
  },
  {
   "cell_type": "code",
   "execution_count": 85,
   "metadata": {},
   "outputs": [],
   "source": [
    "# implement a switcher for each case\n",
    "\n",
    "def add(x, y):\n",
    "    return x + y\n",
    "\n",
    "def multiply(x, y):\n",
    "    return x * y\n",
    "\n",
    "switcher = {\n",
    "    0: None,\n",
    "    1: add,\n",
    "    2: multiply\n",
    "}"
   ]
  },
  {
   "cell_type": "code",
   "execution_count": 88,
   "metadata": {},
   "outputs": [
    {
     "data": {
      "text/plain": [
       "3101878"
      ]
     },
     "execution_count": 88,
     "metadata": {},
     "output_type": "execute_result"
    }
   ],
   "source": [
    "# loop over every 4th index\n",
    "# this shouldn't overshoot for this problem\n",
    "def computer(data, noun, verb):\n",
    "    for idx in np.arange(0,len(data),4):\n",
    "        \n",
    "        data[1] = noun\n",
    "        data[2] = verb\n",
    "\n",
    "        if data[idx] == 99:\n",
    "            break\n",
    "        else:\n",
    "\n",
    "            # get function and update relevant index\n",
    "            func = switcher.get(data[idx])\n",
    "            idx_1 = data[idx + 1]\n",
    "            idx_2 = data[idx + 2]\n",
    "            idx_update = data[idx + 3]\n",
    "            data[idx_update] = func(data[idx_1], data[idx_2])\n",
    "    return data[0]\n",
    "\n",
    "data = import_data()\n",
    "computer(data, 12, 2)"
   ]
  },
  {
   "cell_type": "code",
   "execution_count": 96,
   "metadata": {},
   "outputs": [
    {
     "name": "stdout",
     "output_type": "stream",
     "text": [
      "noun=84, verb=44\n"
     ]
    }
   ],
   "source": [
    "size = 100\n",
    "target = 19690720\n",
    "for i in range(size):\n",
    "    for j in range(size):\n",
    "        \n",
    "        # re-initialise data\n",
    "        data = import_data()\n",
    "        \n",
    "        value = computer(data, i, j)\n",
    "        if value == target:\n",
    "            print(f'noun={i}, verb={j}')\n",
    "            break\n",
    "    if value == target:\n",
    "        break"
   ]
  }
 ],
 "metadata": {
  "kernelspec": {
   "display_name": "Python 3",
   "language": "python",
   "name": "python3"
  },
  "language_info": {
   "codemirror_mode": {
    "name": "ipython",
    "version": 3
   },
   "file_extension": ".py",
   "mimetype": "text/x-python",
   "name": "python",
   "nbconvert_exporter": "python",
   "pygments_lexer": "ipython3",
   "version": "3.7.4"
  }
 },
 "nbformat": 4,
 "nbformat_minor": 2
}
