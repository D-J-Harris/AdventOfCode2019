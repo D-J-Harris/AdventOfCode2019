{
 "cells": [
  {
   "cell_type": "code",
   "execution_count": 1,
   "metadata": {},
   "outputs": [],
   "source": [
    "import numpy as np\n",
    "from copy import deepcopy as cp"
   ]
  },
  {
   "cell_type": "code",
   "execution_count": 2,
   "metadata": {},
   "outputs": [],
   "source": [
    "grid = []\n",
    "with open(\"data/24_data.txt\", \"r\") as f:\n",
    "        for line in f.readlines():\n",
    "            l = line.rstrip()\n",
    "            grid.append([1 if x=='#' else 0 for x in l])\n",
    "grid = np.pad(grid, 1, mode='constant')"
   ]
  },
  {
   "cell_type": "code",
   "execution_count": 3,
   "metadata": {},
   "outputs": [],
   "source": [
    "# assume square grid\n",
    "grid_size = len(grid) - 2\n",
    "prev_grids = []\n",
    "curr_grid = cp(grid)\n",
    "# loop until find a repeat grid config\n",
    "while not any(np.array_equal(curr_grid, x) for x in prev_grids):\n",
    "\n",
    "    prev_grids.append(curr_grid)\n",
    "    tmp_grid = cp(curr_grid)\n",
    "    for x in range(1, grid_size+1):\n",
    "        for y in range(1, grid_size+1):\n",
    "        \n",
    "            curr = curr_grid[y][x]\n",
    "            adj = []\n",
    "            for s in [-1,1]:\n",
    "                adj.append(curr_grid[y+s][x])\n",
    "                adj.append(curr_grid[y][x+s])\n",
    "            \n",
    "            if curr:\n",
    "                if adj.count(1) != 1:\n",
    "                    tmp_grid[y][x] = 0\n",
    "            else:\n",
    "                if adj.count(1) == 1 or adj.count(1) == 2:\n",
    "                    tmp_grid[y][x] = 1\n",
    "    curr_grid = tmp_grid\n",
    "\n",
    "prev_grids.append(curr_grid)\n",
    "repeated_grid = prev_grids[-1]"
   ]
  },
  {
   "cell_type": "code",
   "execution_count": 4,
   "metadata": {},
   "outputs": [
    {
     "data": {
      "text/plain": [
       "28903899"
      ]
     },
     "execution_count": 4,
     "metadata": {},
     "output_type": "execute_result"
    }
   ],
   "source": [
    "div_list = repeated_grid[1:-1,1:-1].flatten()\n",
    "for i, val in enumerate(div_list):\n",
    "    if val:\n",
    "        div_list[i] = 2**i\n",
    "ans = np.sum(div_list)\n",
    "ans"
   ]
  }
 ],
 "metadata": {
  "kernelspec": {
   "display_name": "Python 3",
   "language": "python",
   "name": "python3"
  },
  "language_info": {
   "codemirror_mode": {
    "name": "ipython",
    "version": 3
   },
   "file_extension": ".py",
   "mimetype": "text/x-python",
   "name": "python",
   "nbconvert_exporter": "python",
   "pygments_lexer": "ipython3",
   "version": "3.7.4"
  }
 },
 "nbformat": 4,
 "nbformat_minor": 2
}
