{
 "cells": [
  {
   "cell_type": "code",
   "execution_count": 1,
   "metadata": {},
   "outputs": [],
   "source": [
    "import numpy as np\n",
    "from math import atan2\n",
    "from copy import deepcopy as cp\n",
    "from collections import defaultdict, OrderedDict"
   ]
  },
  {
   "cell_type": "code",
   "execution_count": 2,
   "metadata": {},
   "outputs": [],
   "source": [
    "with open(\"data/10_data.txt\", \"r\") as f:\n",
    "    space_map = []\n",
    "    for line in f.readlines():\n",
    "        space_map.append([x for x in line.strip()])\n",
    "\n",
    "space_map = np.array(space_map)"
   ]
  },
  {
   "cell_type": "code",
   "execution_count": 3,
   "metadata": {},
   "outputs": [],
   "source": [
    "# returns set of relative coords that the asteroid at that base can see.\n",
    "# this is as a dict, key is the angle, value is a dict of relative coords\n",
    "def scan_map(space_map, base):\n",
    "    \n",
    "    height = len(space_map)\n",
    "    width = len(space_map[0])\n",
    "    base_x = base['x']\n",
    "    base_y = base['y']\n",
    "    \n",
    "    coords = defaultdict(list)\n",
    "    \n",
    "    for x in range(width):\n",
    "        for y in range(height):\n",
    "            \n",
    "            if not (x == base_x and y == base_y) and space_map[y][x] == '#':\n",
    "                rel_x = x - base_x\n",
    "                rel_y = y - base_y\n",
    "\n",
    "                # add pi/2 to orient angles to be relative north for part 2\n",
    "                angle = atan2(rel_y, rel_x) - atan2(-1,0)\n",
    "                coords[angle].append([rel_x, rel_y])\n",
    "                \n",
    "    return coords"
   ]
  },
  {
   "cell_type": "code",
   "execution_count": 4,
   "metadata": {},
   "outputs": [],
   "source": [
    "height = len(space_map)\n",
    "width = len(space_map[0])\n",
    "\n",
    "count_map = cp(space_map)\n",
    "count_map = np.where(count_map=='.', 0, count_map)\n",
    "\n",
    "# iterate over asteroids, finding one which can see most others\n",
    "for x in range(width):\n",
    "    for y in range(height):\n",
    "        \n",
    "        if space_map[y][x] == '#':        \n",
    "            base = {'x':x, 'y':y}\n",
    "            coords = scan_map(space_map, base)\n",
    "            count = int(len(coords))\n",
    "            count_map[y][x] = count"
   ]
  },
  {
   "cell_type": "code",
   "execution_count": 5,
   "metadata": {},
   "outputs": [
    {
     "name": "stdout",
     "output_type": "stream",
     "text": [
      "Best location at (22, 19) with 282 asteroids detected\n"
     ]
    }
   ],
   "source": [
    "count_map = count_map.astype(np.int)\n",
    "\n",
    "best_loc = np.where(count_map == np.amax(count_map))\n",
    "best_x = best_loc[1][0]\n",
    "best_y = best_loc[0][0]\n",
    "best_base = {'x':best_x, 'y':best_y}\n",
    "ans = count_map[best_y][best_x]\n",
    "print(f\"Best location at ({best_x}, {best_y}) with {ans} asteroids detected\")"
   ]
  },
  {
   "cell_type": "code",
   "execution_count": 6,
   "metadata": {},
   "outputs": [
    {
     "name": "stdout",
     "output_type": "stream",
     "text": [
      "200th asteroid shot at (10, 8)\n"
     ]
    }
   ],
   "source": [
    "# dict of coords from the best station\n",
    "# coords are sorted by which angle from this station they are (the key)\n",
    "coords = scan_map(space_map, best_base)\n",
    "coords = OrderedDict(sorted(coords.items()))\n",
    "\n",
    "# get the list of coord lists, and the index of the northernmost clockwise\n",
    "# asteroid position (to start rotation)\n",
    "c_list = list(coords.values())\n",
    "first_angle = min([n for n in coords.keys() if n >= 0])\n",
    "angle_idx = c_list.index(coords[first_angle])\n",
    "\n",
    "counter = 0\n",
    "target_coord = None\n",
    "num_blasted = 200\n",
    "while counter < num_blasted:\n",
    "    \n",
    "    num_angles = len(c_list)\n",
    "    i = angle_idx % num_angles\n",
    "    \n",
    "    while not c_list[i]:\n",
    "        angle_idx += 1\n",
    "        i = angle_idx % num_angles\n",
    "    \n",
    "    # if there are multiple asteroids along line of sight, find closest\n",
    "    if len(c_list[i]) > 1:\n",
    "        closest_coord = None\n",
    "        closest_dist = np.inf\n",
    "        for coord in c_list[i]:\n",
    "            mag = np.linalg.norm(coord)\n",
    "            if mag < closest_dist:\n",
    "                closest_coord = coord\n",
    "                closest_dist = mag\n",
    "        target_coord = closest_coord\n",
    "        c_list[i].remove(closest_coord)\n",
    "    \n",
    "    # else just blast that asteroid and remove from list\n",
    "    else:\n",
    "        target_coord = c_list[i][0]\n",
    "        c_list[i] = []\n",
    "    \n",
    "    angle_idx += 1\n",
    "    counter += 1\n",
    "target_coord\n",
    "ans_x = best_base['x'] + target_coord[0]\n",
    "ans_y = best_base['y'] + target_coord[1]\n",
    "print(f\"{num_blasted}th asteroid shot at ({ans_x}, {ans_y})\")"
   ]
  }
 ],
 "metadata": {
  "kernelspec": {
   "display_name": "Python 3",
   "language": "python",
   "name": "python3"
  },
  "language_info": {
   "codemirror_mode": {
    "name": "ipython",
    "version": 3
   },
   "file_extension": ".py",
   "mimetype": "text/x-python",
   "name": "python",
   "nbconvert_exporter": "python",
   "pygments_lexer": "ipython3",
   "version": "3.7.4"
  }
 },
 "nbformat": 4,
 "nbformat_minor": 2
}
