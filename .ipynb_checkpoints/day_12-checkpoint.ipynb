{
 "cells": [
  {
   "cell_type": "code",
   "execution_count": 1,
   "metadata": {},
   "outputs": [],
   "source": [
    "from math import gcd"
   ]
  },
  {
   "cell_type": "code",
   "execution_count": 2,
   "metadata": {},
   "outputs": [],
   "source": [
    "class Moon:\n",
    "    def __init__(self, r, v):\n",
    "        self.r = r\n",
    "        self.v = v\n",
    "        \n",
    "    @property\n",
    "    def energy(self):\n",
    "        return sum(map(abs, self.r.values())) * sum(map(abs, self.v.values()))"
   ]
  },
  {
   "cell_type": "code",
   "execution_count": 3,
   "metadata": {},
   "outputs": [],
   "source": [
    "def find_between(s, first, last):\n",
    "\n",
    "    start = s.index(first) + len(first)\n",
    "    end = s.index(last, start)\n",
    "    return s[start:end]"
   ]
  },
  {
   "cell_type": "code",
   "execution_count": 4,
   "metadata": {},
   "outputs": [],
   "source": [
    "with open(\"data/12_data.txt\", \"r\") as f:\n",
    "    \n",
    "    moons_master = []\n",
    "    for line in f.readlines():\n",
    "        x = int(find_between(line, \"x=\", \",\"))\n",
    "        y = int(find_between(line, \"y=\", \",\"))\n",
    "        z = int(find_between(line, \"z=\", \">\"))\n",
    "        moons_master.append(Moon({'x':x, 'y':y, 'z':z}, {'x':0, 'y':0, 'z':0}))"
   ]
  },
  {
   "cell_type": "code",
   "execution_count": 5,
   "metadata": {},
   "outputs": [],
   "source": [
    "def timestep(moons):\n",
    "\n",
    "    for i, m1 in enumerate(moons):\n",
    "        for j, m2 in enumerate(moons[i+1:]):\n",
    "    \n",
    "            m1, m2 = update_v(m1, m2, 'x')\n",
    "            m1, m2 = update_v(m1, m2, 'y')\n",
    "            m1, m2 = update_v(m1, m2, 'z')\n",
    "            moons[i] = m1\n",
    "            moons[j+i+1] = m2\n",
    "    moons = update_r(moons)\n",
    "    return moons"
   ]
  },
  {
   "cell_type": "code",
   "execution_count": 6,
   "metadata": {},
   "outputs": [],
   "source": [
    "def update_v(m1, m2, coord):\n",
    "    \n",
    "    x1 = m1.r[coord]\n",
    "    x2 = m2.r[coord]\n",
    "    \n",
    "    if x1 != x2:\n",
    "        if x1 > x2:\n",
    "            m1.v[coord] -= 1\n",
    "            m2.v[coord] += 1\n",
    "        else:\n",
    "            m1.v[coord] += 1\n",
    "            m2.v[coord] -= 1\n",
    "    return m1, m2"
   ]
  },
  {
   "cell_type": "code",
   "execution_count": 7,
   "metadata": {},
   "outputs": [],
   "source": [
    "def update_r(moons):\n",
    "    for i, m in enumerate(moons):\n",
    "        m.r['x'] += m.v['x']\n",
    "        m.r['y'] += m.v['y']\n",
    "        m.r['z'] += m.v['z']\n",
    "        moons[i] = m\n",
    "    return moons"
   ]
  },
  {
   "cell_type": "code",
   "execution_count": 8,
   "metadata": {},
   "outputs": [
    {
     "data": {
      "text/plain": [
       "9958"
      ]
     },
     "execution_count": 8,
     "metadata": {},
     "output_type": "execute_result"
    }
   ],
   "source": [
    "timesteps = 1000\n",
    "moons = moons_master\n",
    "\n",
    "for _ in range(timesteps):\n",
    "    moons = timestep(moons)\n",
    "total_energy = 0\n",
    "for m in moons:\n",
    "    total_energy += m.energy\n",
    "ans = total_energy\n",
    "ans"
   ]
  },
  {
   "cell_type": "code",
   "execution_count": 9,
   "metadata": {},
   "outputs": [],
   "source": [
    "# return period of universe along certain coord axis\n",
    "def get_period(moons, coord):\n",
    "    \n",
    "    initial = [m.r[coord] for m in moons] + [m.v[coord] for m in moons]\n",
    "    state = None\n",
    "    counter = 0\n",
    "    \n",
    "    while state != initial:\n",
    "        counter += 1\n",
    "        moons = timestep(moons)\n",
    "        state = [m.r[coord] for m in moons] + [m.v[coord] for m in moons]\n",
    "        \n",
    "    return counter"
   ]
  },
  {
   "cell_type": "code",
   "execution_count": 10,
   "metadata": {},
   "outputs": [],
   "source": [
    "moons = moons_master\n",
    "p_x = get_period(moons, 'x')\n",
    "p_y = get_period(moons, 'y')\n",
    "p_z = get_period(moons, 'z')"
   ]
  },
  {
   "cell_type": "code",
   "execution_count": 11,
   "metadata": {},
   "outputs": [],
   "source": [
    "def lcm(a, b):\n",
    "    return abs(a*b) // gcd(a, b)"
   ]
  },
  {
   "cell_type": "code",
   "execution_count": 12,
   "metadata": {},
   "outputs": [
    {
     "data": {
      "text/plain": [
       "318382803780324"
      ]
     },
     "execution_count": 12,
     "metadata": {},
     "output_type": "execute_result"
    }
   ],
   "source": [
    "# answer is lcm of individual axis periods\n",
    "# inspiration taken from reddit, previous code was taking a long time\n",
    "ans = lcm(lcm(p_x, p_y), p_z)\n",
    "ans"
   ]
  }
 ],
 "metadata": {
  "kernelspec": {
   "display_name": "Python 3",
   "language": "python",
   "name": "python3"
  },
  "language_info": {
   "codemirror_mode": {
    "name": "ipython",
    "version": 3
   },
   "file_extension": ".py",
   "mimetype": "text/x-python",
   "name": "python",
   "nbconvert_exporter": "python",
   "pygments_lexer": "ipython3",
   "version": "3.7.4"
  }
 },
 "nbformat": 4,
 "nbformat_minor": 2
}
