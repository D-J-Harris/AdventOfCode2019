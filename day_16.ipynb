{
 "cells": [
  {
   "cell_type": "code",
   "execution_count": 1,
   "metadata": {},
   "outputs": [],
   "source": [
    "from copy import deepcopy as cp\n",
    "import numpy as np"
   ]
  },
  {
   "cell_type": "code",
   "execution_count": 2,
   "metadata": {},
   "outputs": [],
   "source": [
    "with open(\"data/16_data.txt\", \"r\") as f:\n",
    "    input_number = [int(x) for x in f.readline()]"
   ]
  },
  {
   "cell_type": "code",
   "execution_count": 3,
   "metadata": {},
   "outputs": [],
   "source": [
    "# input number is an array\n",
    "def phase(input_number):\n",
    "    \n",
    "    input_length = len(input_number)\n",
    "    pattern_vals = np.array([[0, 1],[0, -1]])\n",
    "    output_number = []\n",
    "    \n",
    "    for i in range(1, input_length+1):\n",
    "        pattern = np.repeat(pattern_vals, i)\n",
    "        pattern = np.tile(pattern, 1+input_length//(4*i))[1:input_length+1]\n",
    "        s = np.sum(np.multiply(input_number, pattern))\n",
    "\n",
    "        output_number.append(abs(s)%10)\n",
    "        \n",
    "    return output_number"
   ]
  },
  {
   "cell_type": "code",
   "execution_count": 4,
   "metadata": {},
   "outputs": [
    {
     "data": {
      "text/plain": [
       "'23135243'"
      ]
     },
     "execution_count": 4,
     "metadata": {},
     "output_type": "execute_result"
    }
   ],
   "source": [
    "num_phases = 100\n",
    "out = cp(input_number)\n",
    "for _ in range(num_phases):\n",
    "    out = phase(out)\n",
    "ans = ''.join(str(i) for i in out[:8])\n",
    "ans"
   ]
  },
  {
   "cell_type": "code",
   "execution_count": 5,
   "metadata": {},
   "outputs": [
    {
     "data": {
      "text/plain": [
       "'21130597'"
      ]
     },
     "execution_count": 5,
     "metadata": {},
     "output_type": "execute_result"
    }
   ],
   "source": [
    "offset = int(''.join(str(i) for i in input_number[:7]))\n",
    "input_number = np.tile(input_number, 10000)[offset:]\n",
    "out = cp(input_number)\n",
    "\n",
    "# offset allows us to use the simple pattern structure from behind\n",
    "for _ in range(num_phases):\n",
    "    suffix_sum = 0\n",
    "    for i in range(len(input_number)-1, -1, -1):\n",
    "        out[i] = suffix_sum = (suffix_sum + out[i])%10\n",
    "ans = ''.join(str(i) for i in out[:8])\n",
    "ans"
   ]
  }
 ],
 "metadata": {
  "kernelspec": {
   "display_name": "Python 3",
   "language": "python",
   "name": "python3"
  },
  "language_info": {
   "codemirror_mode": {
    "name": "ipython",
    "version": 3
   },
   "file_extension": ".py",
   "mimetype": "text/x-python",
   "name": "python",
   "nbconvert_exporter": "python",
   "pygments_lexer": "ipython3",
   "version": "3.7.4"
  }
 },
 "nbformat": 4,
 "nbformat_minor": 2
}
